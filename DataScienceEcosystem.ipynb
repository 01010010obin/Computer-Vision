{
 "cells": [
  {
   "cell_type": "markdown",
   "id": "0cb2e3cc",
   "metadata": {},
   "source": [
    "# Data Science Tools and Ecosystem"
   ]
  },
  {
   "cell_type": "markdown",
   "id": "f31c2e06",
   "metadata": {},
   "source": [
    "## In this notebook, Data Science Tools and Ecosystem are summarized."
   ]
  },
  {
   "cell_type": "markdown",
   "id": "69361f9e",
   "metadata": {},
   "source": [
    "### Some of the popular languages that Data Scientists use are: python ,R ,julia, java"
   ]
  },
  {
   "cell_type": "code",
   "execution_count": 2,
   "id": "a6299bdb",
   "metadata": {},
   "outputs": [],
   "source": [
    "ordered_list=[\"python\",\"R\",\"julia\",\"java\"]"
   ]
  },
  {
   "cell_type": "markdown",
   "id": "ae0c1d22",
   "metadata": {},
   "source": [
    "### Some of the commonly used libraries used by Data Scientists include: \n",
    "\n",
    "#### sklearn, keras, pandas, numpy"
   ]
  },
  {
   "cell_type": "markdown",
   "id": "f5eb688e",
   "metadata": {},
   "source": [
    "### | Data Science Tools        \n",
    "### |--------------------------         \n",
    "### | Jupyter Notebook          \n",
    "### | RStudio                         \n",
    "### | Apache Zeppelin         \n"
   ]
  },
  {
   "cell_type": "markdown",
   "id": "a60a7c68",
   "metadata": {},
   "source": [
    "### Below are a few examples of evaluating arithmetic expressions in Python."
   ]
  },
  {
   "cell_type": "code",
   "execution_count": 3,
   "id": "2f84ab89",
   "metadata": {},
   "outputs": [
    {
     "name": "stdout",
     "output_type": "stream",
     "text": [
      "3 + 5 = 8\n"
     ]
    }
   ],
   "source": [
    "result_add = 3 + 5\n",
    "print(\"3 + 5 =\", result_add)"
   ]
  },
  {
   "cell_type": "markdown",
   "id": "edbc4356",
   "metadata": {},
   "source": [
    "### This a simple arithmetic expression to mutiply then add integers"
   ]
  },
  {
   "cell_type": "code",
   "execution_count": 4,
   "id": "8ad245c8",
   "metadata": {},
   "outputs": [
    {
     "name": "stdout",
     "output_type": "stream",
     "text": [
      "17\n"
     ]
    }
   ],
   "source": [
    "print((4*3)+5)"
   ]
  },
  {
   "cell_type": "markdown",
   "id": "c4b426dd",
   "metadata": {},
   "source": [
    "### This will convert 200 minutes to hours by diving by 60"
   ]
  },
  {
   "cell_type": "code",
   "execution_count": 5,
   "id": "00f5c0a2",
   "metadata": {},
   "outputs": [
    {
     "name": "stdout",
     "output_type": "stream",
     "text": [
      "3.3333333333333335\n"
     ]
    }
   ],
   "source": [
    "print(200/60)"
   ]
  },
  {
   "cell_type": "markdown",
   "id": "12591fe4",
   "metadata": {},
   "source": [
    "## Author"
   ]
  },
  {
   "cell_type": "code",
   "execution_count": null,
   "id": "9a1ab35c",
   "metadata": {},
   "outputs": [],
   "source": [
    "Robin"
   ]
  }
 ],
 "metadata": {
  "kernelspec": {
   "display_name": "Python 3 (ipykernel)",
   "language": "python",
   "name": "python3"
  },
  "language_info": {
   "codemirror_mode": {
    "name": "ipython",
    "version": 3
   },
   "file_extension": ".py",
   "mimetype": "text/x-python",
   "name": "python",
   "nbconvert_exporter": "python",
   "pygments_lexer": "ipython3",
   "version": "3.11.5"
  }
 },
 "nbformat": 4,
 "nbformat_minor": 5
}
